{
 "cells": [
  {
   "cell_type": "code",
   "execution_count": 39,
   "metadata": {},
   "outputs": [],
   "source": [
    "# import libary\n",
    "import pandas as pd\n",
    "import numpy as np\n",
    "import matplotlib.pyplot as plt\n",
    "import random\n",
    "\n",
    "random.seed(0)"
   ]
  },
  {
   "cell_type": "code",
   "execution_count": 40,
   "metadata": {},
   "outputs": [
    {
     "name": "stdout",
     "output_type": "stream",
     "text": [
      "[[  1.  230.1  37.8  69.2]\n",
      " [  1.   44.5  39.3  45.1]\n",
      " [  1.   17.2  45.9  69.3]\n",
      " [  1.  151.5  41.3  58.5]\n",
      " [  1.  180.8  10.8  58.4]]\n"
     ]
    }
   ],
   "source": [
    "# read data\n",
    "def read_file_data(file_data_path):\n",
    "    data = np.genfromtxt(file_data_path, delimiter=\",\", skip_header=1)\n",
    "\n",
    "    X = data[:, :3]\n",
    "    y_sales = data[:, 3]\n",
    "\n",
    "    x_feature = np.c_[np.ones((len(y_sales), 1)), X]\n",
    "\n",
    "    return x_feature, y_sales\n",
    "\n",
    "DATA_PATH = \"data/advertising.csv\"\n",
    "x_feature, _ = read_file_data(DATA_PATH)\n",
    "print(x_feature[:5, :])"
   ]
  },
  {
   "cell_type": "code",
   "execution_count": 41,
   "metadata": {},
   "outputs": [
    {
     "name": "stdout",
     "output_type": "stream",
     "text": [
      "[22.1 10.4 12.  16.5 17.9]\n"
     ]
    },
    {
     "data": {
      "text/plain": [
       "(200,)"
      ]
     },
     "execution_count": 41,
     "metadata": {},
     "output_type": "execute_result"
    }
   ],
   "source": [
    "_, y_sales = read_file_data(DATA_PATH)\n",
    "print(y_sales[:5])\n",
    "y_sales.shape"
   ]
  },
  {
   "cell_type": "code",
   "execution_count": 42,
   "metadata": {},
   "outputs": [],
   "source": [
    "def random_in_range(bound=10):\n",
    "    return random.random()*bound - (bound/2)"
   ]
  },
  {
   "cell_type": "code",
   "execution_count": 43,
   "metadata": {},
   "outputs": [
    {
     "data": {
      "text/plain": [
       "[3.4442185152504816,\n",
       " 2.5795440294030243,\n",
       " -0.79428419169155,\n",
       " -2.4108324970703663]"
      ]
     },
     "execution_count": 43,
     "metadata": {},
     "output_type": "execute_result"
    }
   ],
   "source": [
    "def create_individual(n=4, bound=10):\n",
    "    individual = []\n",
    "    subbound = bound/2\n",
    "    for i in range(4):\n",
    "        # gene = [random.random()*bound-subbound for _ in range(4)]\n",
    "        gene = random_in_range(bound)\n",
    "        individual.append(gene)\n",
    "\n",
    "    return list(individual)\n",
    "\n",
    "individual = create_individual()\n",
    "individual"
   ]
  },
  {
   "cell_type": "code",
   "execution_count": 44,
   "metadata": {},
   "outputs": [
    {
     "name": "stdout",
     "output_type": "stream",
     "text": [
      "1.0185991537088997e-06\n"
     ]
    }
   ],
   "source": [
    "def compute_loss(individual):\n",
    "    thetas = np.array(individual)\n",
    "    y_hat = x_feature.dot(thetas)\n",
    "    loss = np.multiply((y_hat - y_sales), (y_hat-y_sales)).mean()\n",
    "    return loss\n",
    "\n",
    "def compute_fitness(individual):\n",
    "    loss_individual = compute_loss(individual)\n",
    "    fitness = 1/(loss_individual + 1)\n",
    "    return fitness\n",
    "\n",
    "\n",
    "x_feature, y_sales = read_file_data(DATA_PATH)\n",
    "individual = [4.09, 4.82, 3.10, 4.02]\n",
    "fitness_score = compute_fitness(individual)\n",
    "print(fitness_score)\n"
   ]
  },
  {
   "cell_type": "code",
   "execution_count": 50,
   "metadata": {},
   "outputs": [
    {
     "name": "stdout",
     "output_type": "stream",
     "text": [
      "Individual1:  [3.44, 4.82, 3.1, -2.41]\n",
      "Individual2:  [4.09, 2.57, -0.79, 4.02]\n"
     ]
    }
   ],
   "source": [
    "def crossover(individual1, individual2, crossover_rate=0.09):\n",
    "    individual1_new = individual1.copy()\n",
    "    individual2_new = individual2.copy()\n",
    "\n",
    "    for i in range(len(individual1)):\n",
    "        if random_in_range() < crossover_rate:\n",
    "\n",
    "            individual1_new[i] = individual2[i]\n",
    "            individual2_new[i] = individual1[i]\n",
    "\n",
    "    return individual1_new, individual2_new\n",
    "\n",
    "individual1 = [4.09, 4.82, 3.10, 4.02]\n",
    "individual2 = [3.44, 2.57, -0.79, -2.41]\n",
    "\n",
    "individual1, individual2 = crossover(individual1, individual2, 2.0)\n",
    "\n",
    "print(\"Individual1: \", individual1)\n",
    "print(\"Individual2: \", individual2)\n"
   ]
  },
  {
   "cell_type": "code",
   "execution_count": 52,
   "metadata": {},
   "outputs": [
    {
     "name": "stdout",
     "output_type": "stream",
     "text": [
      "False\n"
     ]
    }
   ],
   "source": [
    "def mutation(individual, mutation_rate=0.05):\n",
    "    individual_m = individual.copy()\n",
    "\n",
    "    for i in range(len(individual)):\n",
    "        if random.random() < mutation_rate:\n",
    "            individual_m[i] = random_in_range(10)\n",
    "    return individual_m\n",
    "\n",
    "before_individual = [4.09, 4.82, 3.10, 4.02]\n",
    "after_individual = mutation(individual, mutation_rate = 2.0)\n",
    "print(before_individual == after_individual)\n"
   ]
  }
 ],
 "metadata": {
  "kernelspec": {
   "display_name": ".venv",
   "language": "python",
   "name": "python3"
  },
  "language_info": {
   "codemirror_mode": {
    "name": "ipython",
    "version": 3
   },
   "file_extension": ".py",
   "mimetype": "text/x-python",
   "name": "python",
   "nbconvert_exporter": "python",
   "pygments_lexer": "ipython3",
   "version": "3.12.4"
  }
 },
 "nbformat": 4,
 "nbformat_minor": 2
}

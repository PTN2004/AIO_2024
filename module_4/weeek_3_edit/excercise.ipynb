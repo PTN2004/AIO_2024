{
 "cells": [
  {
   "cell_type": "code",
   "execution_count": 68,
   "metadata": {},
   "outputs": [],
   "source": [
    "# import libary\n",
    "import pandas as pd\n",
    "import numpy as np\n",
    "import matplotlib.pyplot as plt\n",
    "import random\n",
    "\n",
    "random.seed(0)"
   ]
  },
  {
   "cell_type": "code",
   "execution_count": 69,
   "metadata": {},
   "outputs": [
    {
     "name": "stdout",
     "output_type": "stream",
     "text": [
      "[[  1.  230.1  37.8  69.2]\n",
      " [  1.   44.5  39.3  45.1]\n",
      " [  1.   17.2  45.9  69.3]\n",
      " [  1.  151.5  41.3  58.5]\n",
      " [  1.  180.8  10.8  58.4]]\n"
     ]
    }
   ],
   "source": [
    "# read data\n",
    "def read_file_data(file_data_path):\n",
    "    data = np.genfromtxt(file_data_path, delimiter=\",\", skip_header=1)\n",
    "\n",
    "    X = data[:, :3]\n",
    "    y_sales = data[:, 3]\n",
    "\n",
    "    x_feature = np.c_[np.ones((len(y_sales), 1)), X]\n",
    "\n",
    "    return x_feature, y_sales\n",
    "\n",
    "DATA_PATH = \"data/advertising.csv\"\n",
    "x_feature, _ = read_file_data(DATA_PATH)\n",
    "print(x_feature[:5, :])"
   ]
  },
  {
   "cell_type": "code",
   "execution_count": 70,
   "metadata": {},
   "outputs": [
    {
     "name": "stdout",
     "output_type": "stream",
     "text": [
      "[22.1 10.4 12.  16.5 17.9]\n"
     ]
    },
    {
     "data": {
      "text/plain": [
       "(200,)"
      ]
     },
     "execution_count": 70,
     "metadata": {},
     "output_type": "execute_result"
    }
   ],
   "source": [
    "_, y_sales = read_file_data(DATA_PATH)\n",
    "print(y_sales[:5])\n",
    "y_sales.shape"
   ]
  },
  {
   "cell_type": "code",
   "execution_count": 71,
   "metadata": {},
   "outputs": [],
   "source": [
    "def random_in_range(bound=10):\n",
    "    return (random.random()-0.5) * bound"
   ]
  },
  {
   "cell_type": "code",
   "execution_count": 72,
   "metadata": {},
   "outputs": [
    {
     "data": {
      "text/plain": [
       "[3.444218515250481, 2.5795440294030247, -0.79428419169155, -2.4108324970703663]"
      ]
     },
     "execution_count": 72,
     "metadata": {},
     "output_type": "execute_result"
    }
   ],
   "source": [
    "def create_individual(n=4, bound=10):\n",
    "    individual = [random_in_range() for _ in range(n)]\n",
    "    return individual\n",
    "\n",
    "individual = create_individual()\n",
    "individual"
   ]
  },
  {
   "cell_type": "code",
   "execution_count": 73,
   "metadata": {},
   "outputs": [
    {
     "name": "stdout",
     "output_type": "stream",
     "text": [
      "1.0185991537088997e-06\n"
     ]
    }
   ],
   "source": [
    "def compute_loss(individual):\n",
    "    thetas = np.array(individual)\n",
    "    y_hat = x_feature.dot(thetas)\n",
    "    loss = np.multiply((y_hat - y_sales), (y_hat - y_sales).T).mean()\n",
    "    return loss\n",
    "\n",
    "def compute_fitness(individual):\n",
    "    loss_individual = compute_loss(individual)\n",
    "    fitness = 1/(loss_individual + 1)\n",
    "    return fitness\n",
    "\n",
    "\n",
    "x_feature, y_sales = read_file_data(DATA_PATH)\n",
    "individual = [4.09, 4.82, 3.10, 4.02]\n",
    "fitness_score = compute_fitness(individual)\n",
    "print(fitness_score)\n"
   ]
  },
  {
   "cell_type": "code",
   "execution_count": 74,
   "metadata": {},
   "outputs": [
    {
     "name": "stdout",
     "output_type": "stream",
     "text": [
      "Individual1:  [3.44, 2.57, -0.79, -2.41]\n",
      "Individual2:  [4.09, 4.82, 3.1, 4.02]\n"
     ]
    }
   ],
   "source": [
    "def crossover(individual1, individual2, crossover_rate=0.09):\n",
    "    individual1_new = individual1.copy()\n",
    "    individual2_new = individual2.copy()\n",
    "\n",
    "    for i in range(len(individual1)):\n",
    "        if random.random() < crossover_rate:\n",
    "\n",
    "            individual1_new[i] = individual2[i]\n",
    "            individual2_new[i] = individual1[i]\n",
    "\n",
    "    return individual1_new, individual2_new\n",
    "\n",
    "individual1 = [4.09, 4.82, 3.10, 4.02]\n",
    "individual2 = [3.44, 2.57, -0.79, -2.41]\n",
    "\n",
    "individual1, individual2 = crossover(individual1, individual2, 2.0)\n",
    "\n",
    "print(\"Individual1: \", individual1)\n",
    "print(\"Individual2: \", individual2)\n"
   ]
  },
  {
   "cell_type": "code",
   "execution_count": 75,
   "metadata": {},
   "outputs": [
    {
     "name": "stdout",
     "output_type": "stream",
     "text": [
      "False\n"
     ]
    }
   ],
   "source": [
    "def mutation(individual, mutation_rate=0.05):\n",
    "    individual_m = individual.copy()\n",
    "\n",
    "    for i in range(len(individual)):\n",
    "        if random.random() < mutation_rate:\n",
    "            individual_m[i] = random_in_range()\n",
    "    return individual_m\n",
    "\n",
    "before_individual = [4.09, 4.82, 3.10, 4.02]\n",
    "after_individual = mutation(individual, mutation_rate = 2.0)\n",
    "print(before_individual == after_individual)\n"
   ]
  },
  {
   "cell_type": "code",
   "execution_count": 76,
   "metadata": {},
   "outputs": [],
   "source": [
    "def initialzie_population(m):\n",
    "    population = [create_individual() for _ in range(m)]\n",
    "    return population"
   ]
  },
  {
   "cell_type": "code",
   "execution_count": 77,
   "metadata": {},
   "outputs": [],
   "source": [
    "def selection(sorted_old_population, m=100):\n",
    "    index1 = random.randint(0, m-1)\n",
    "\n",
    "    while True:\n",
    "        index2 = random.randint(0, m-1)\n",
    "        if index2 != index1:\n",
    "            break\n",
    "    \n",
    "    individual_selected = sorted_old_population[index1]\n",
    "    if index2 > index1:\n",
    "        individual_selected = sorted_old_population[index2]\n",
    "\n",
    "    return individual_selected\n"
   ]
  },
  {
   "cell_type": "code",
   "execution_count": 78,
   "metadata": {},
   "outputs": [
    {
     "name": "stdout",
     "output_type": "stream",
     "text": [
      "[-0.855820117227527, 1.5083286226334502, -4.984757781432798, -3.076904587553242]\n"
     ]
    }
   ],
   "source": [
    "population = initialzie_population(m=100)\n",
    "individual_s = selection(population, m = 100)\n",
    "print(individual_s)"
   ]
  },
  {
   "cell_type": "code",
   "execution_count": 79,
   "metadata": {},
   "outputs": [],
   "source": [
    "random.seed(0)"
   ]
  },
  {
   "cell_type": "code",
   "execution_count": 80,
   "metadata": {},
   "outputs": [
    {
     "name": "stdout",
     "output_type": "stream",
     "text": [
      "Best loss:  123415.05152880498 with chromsome:  [3.44, 2.57, -0.79, -2.41]\n"
     ]
    }
   ],
   "source": [
    "def create_new_population(old_population, elitism=2, gen=1):\n",
    "\n",
    "    m = len(old_population)\n",
    "\n",
    "    sorted_old_population = sorted(old_population, key=compute_fitness)\n",
    "\n",
    "    if gen % 1 == 0:\n",
    "        print(\"Best loss: \", compute_loss(sorted_old_population[m-1]), \n",
    "                                          \"with chromsome: \", sorted_old_population[m-1])\n",
    "    \n",
    "    new_population = []\n",
    "    while len(new_population) < m-elitism:\n",
    "        \n",
    "        individual1 = selection(sorted_old_population, m)\n",
    "        individual2 = selection(sorted_old_population, m)\n",
    "\n",
    "        individual_t1, individual_t2 = crossover(individual1, individual2)\n",
    "\n",
    "        individual_m1 = mutation(individual_t1)\n",
    "        individual_m2 = mutation(individual_t2)\n",
    "\n",
    "        new_population.append(individual_m1)\n",
    "        new_population.append(individual_m2)\n",
    "\n",
    "    for ind in sorted_old_population[m-elitism:]:\n",
    "        new_population.append(ind.copy())\n",
    "\n",
    "    return new_population, compute_fitness(sorted_old_population[m-1])\n",
    "\n",
    "individual1 = [4.09, 4.82, 3.10, 4.02]\n",
    "individual2 = [3.44, 2.57, -0.79, -2.41]\n",
    "old_population = [individual1, individual2]\n",
    "new_population, _ = create_new_population(old_population, elitism=2, gen=1)\n"
   ]
  },
  {
   "cell_type": "code",
   "execution_count": 81,
   "metadata": {},
   "outputs": [],
   "source": [
    "# def run_GA():\n",
    "#     n_generate = 100\n",
    "#     m = 600\n",
    "#     x_feature, y_sales = read_file_data(DATA_PATH)\n",
    "#     population = initialzie_population(m)\n",
    "#     losses = []\n",
    "\n",
    "#     for i in range(n_generate):\n",
    "#         population, loss = create_new_population(population, 2, i)\n",
    "        \n",
    "#         losses.append(loss)\n",
    "\n",
    "#     return losses\n",
    "\n",
    "def run_GA():\n",
    "  n_generations = 100\n",
    "  m = 600\n",
    "  features_X, sales_Y = read_file_data(DATA_PATH)\n",
    "  population = initialzie_population(m)\n",
    "  losses_list = []\n",
    "  for i in range(n_generations):\n",
    "    population, losses = create_new_population(population, 2, i)\n",
    "    losses_list.append(losses)\n",
    "  return losses_list, population\n",
    "\n"
   ]
  },
  {
   "cell_type": "code",
   "execution_count": 82,
   "metadata": {},
   "outputs": [
    {
     "name": "stdout",
     "output_type": "stream",
     "text": [
      "Best loss:  499.42870543645824 with chromsome:  [3.331600837968306, -0.09720038244186435, 1.449875562942834, -0.2732124726990648]\n",
      "Best loss:  499.42870543645824 with chromsome:  [3.331600837968306, -0.09720038244186435, 1.449875562942834, -0.2732124726990648]\n",
      "Best loss:  499.42870543645824 with chromsome:  [3.331600837968306, -0.09720038244186435, 1.449875562942834, -0.2732124726990648]\n",
      "Best loss:  221.59176833235463 with chromsome:  [-1.553016468871643, 0.03923197330006567, -0.5831993881428243, 0.597965879322987]\n",
      "Best loss:  221.59176833235463 with chromsome:  [-1.553016468871643, 0.03923197330006567, -0.5831993881428243, 0.597965879322987]\n",
      "Best loss:  187.69067053002232 with chromsome:  [-2.7538385235539034, -0.04369576611629622, 0.7544546780866013, 0.08978448260699934]\n",
      "Best loss:  187.69067053002232 with chromsome:  [-2.7538385235539034, -0.04369576611629622, 0.7544546780866013, 0.08978448260699934]\n",
      "Best loss:  114.77703896050285 with chromsome:  [-4.55647474600883, 0.024634233505885783, -0.11381195572847447, 0.4344279380453031]\n",
      "Best loss:  88.67082010438435 with chromsome:  [-0.9818317778745644, 0.024634233505885783, -0.11381195572847447, 0.4344279380453031]\n",
      "Best loss:  85.7864370786839 with chromsome:  [1.6512559671116978, 0.024634233505885783, -0.11381195572847447, 0.4344279380453031]\n",
      "Best loss:  81.34205513516685 with chromsome:  [-0.9818317778745644, 0.03923197330006567, -0.11381195572847447, 0.4344279380453031]\n",
      "Best loss:  81.34205513516685 with chromsome:  [-0.9818317778745644, 0.03923197330006567, -0.11381195572847447, 0.4344279380453031]\n",
      "Best loss:  46.9344076020948 with chromsome:  [-1.7633148347880767, 0.03923197330006567, 0.5715949597665337, -0.05301059713686884]\n",
      "Best loss:  46.9344076020948 with chromsome:  [-1.7633148347880767, 0.03923197330006567, 0.5715949597665337, -0.05301059713686884]\n",
      "Best loss:  46.9344076020948 with chromsome:  [-1.7633148347880767, 0.03923197330006567, 0.5715949597665337, -0.05301059713686884]\n",
      "Best loss:  46.9344076020948 with chromsome:  [-1.7633148347880767, 0.03923197330006567, 0.5715949597665337, -0.05301059713686884]\n",
      "Best loss:  12.271290996847428 with chromsome:  [3.8838393289318427, 0.03923197330006567, 0.20225858991120949, -0.05301059713686884]\n",
      "Best loss:  12.271290996847428 with chromsome:  [3.8838393289318427, 0.03923197330006567, 0.20225858991120949, -0.05301059713686884]\n",
      "Best loss:  10.125373820479659 with chromsome:  [4.384812500009514, 0.03923197330006567, 0.20225858991120949, -0.05301059713686884]\n",
      "Best loss:  10.125373820479659 with chromsome:  [4.384812500009514, 0.03923197330006567, 0.20225858991120949, -0.05301059713686884]\n",
      "Best loss:  10.125373820479659 with chromsome:  [4.384812500009514, 0.03923197330006567, 0.20225858991120949, -0.05301059713686884]\n",
      "Best loss:  10.125373820479659 with chromsome:  [4.384812500009514, 0.03923197330006567, 0.20225858991120949, -0.05301059713686884]\n",
      "Best loss:  10.125373820479659 with chromsome:  [4.384812500009514, 0.03923197330006567, 0.20225858991120949, -0.05301059713686884]\n",
      "Best loss:  10.125373820479659 with chromsome:  [4.384812500009514, 0.03923197330006567, 0.20225858991120949, -0.05301059713686884]\n",
      "Best loss:  10.125373820479659 with chromsome:  [4.384812500009514, 0.03923197330006567, 0.20225858991120949, -0.05301059713686884]\n",
      "Best loss:  9.820598310117164 with chromsome:  [3.8838393289318427, 0.03923197330006567, 0.22384752104917305, -0.0454525038971032]\n",
      "Best loss:  9.091403606620492 with chromsome:  [4.384812500009514, 0.03923197330006567, 0.20225858991120949, -0.0454525038971032]\n",
      "Best loss:  8.461288169906036 with chromsome:  [4.893039316956587, 0.03923197330006567, 0.20225858991120949, -0.05301059713686884]\n",
      "Best loss:  7.674950279596922 with chromsome:  [4.887453238154535, 0.03923197330006567, 0.20225858991120949, -0.0454525038971032]\n",
      "Best loss:  7.674950279596922 with chromsome:  [4.887453238154535, 0.03923197330006567, 0.20225858991120949, -0.0454525038971032]\n",
      "Best loss:  7.6620475742547205 with chromsome:  [4.893039316956587, 0.03923197330006567, 0.20225858991120949, -0.0454525038971032]\n",
      "Best loss:  6.697359644677853 with chromsome:  [4.466137926392303, 0.03923197330006567, 0.20225858991120949, -0.020864713635008192]\n",
      "Best loss:  6.697359644677853 with chromsome:  [4.466137926392303, 0.03923197330006567, 0.20225858991120949, -0.020864713635008192]\n",
      "Best loss:  6.697359644677853 with chromsome:  [4.466137926392303, 0.03923197330006567, 0.20225858991120949, -0.020864713635008192]\n",
      "Best loss:  6.1067297702880685 with chromsome:  [4.986411905019624, 0.03923197330006567, 0.20225858991120949, -0.020864713635008192]\n",
      "Best loss:  6.1067297702880685 with chromsome:  [4.986411905019624, 0.03923197330006567, 0.20225858991120949, -0.020864713635008192]\n",
      "Best loss:  6.1067297702880685 with chromsome:  [4.986411905019624, 0.03923197330006567, 0.20225858991120949, -0.020864713635008192]\n",
      "Best loss:  6.1067297702880685 with chromsome:  [4.986411905019624, 0.03923197330006567, 0.20225858991120949, -0.020864713635008192]\n",
      "Best loss:  6.1067297702880685 with chromsome:  [4.986411905019624, 0.03923197330006567, 0.20225858991120949, -0.020864713635008192]\n",
      "Best loss:  6.1067297702880685 with chromsome:  [4.986411905019624, 0.03923197330006567, 0.20225858991120949, -0.020864713635008192]\n",
      "Best loss:  6.1067297702880685 with chromsome:  [4.986411905019624, 0.03923197330006567, 0.20225858991120949, -0.020864713635008192]\n",
      "Best loss:  6.1067297702880685 with chromsome:  [4.986411905019624, 0.03923197330006567, 0.20225858991120949, -0.020864713635008192]\n",
      "Best loss:  6.1067297702880685 with chromsome:  [4.986411905019624, 0.03923197330006567, 0.20225858991120949, -0.020864713635008192]\n",
      "Best loss:  6.1067297702880685 with chromsome:  [4.986411905019624, 0.03923197330006567, 0.20225858991120949, -0.020864713635008192]\n",
      "Best loss:  6.100805979951897 with chromsome:  [4.9962006103448235, 0.03923197330006567, 0.20225858991120949, -0.020864713635008192]\n",
      "Best loss:  6.100805979951897 with chromsome:  [4.9962006103448235, 0.03923197330006567, 0.20225858991120949, -0.020864713635008192]\n",
      "Best loss:  6.100805979951897 with chromsome:  [4.9962006103448235, 0.03923197330006567, 0.20225858991120949, -0.020864713635008192]\n",
      "Best loss:  6.100805979951897 with chromsome:  [4.9962006103448235, 0.03923197330006567, 0.20225858991120949, -0.020864713635008192]\n",
      "Best loss:  6.100805979951897 with chromsome:  [4.9962006103448235, 0.03923197330006567, 0.20225858991120949, -0.020864713635008192]\n",
      "Best loss:  6.100805979951897 with chromsome:  [4.9962006103448235, 0.03923197330006567, 0.20225858991120949, -0.020864713635008192]\n",
      "Best loss:  6.100805979951897 with chromsome:  [4.9962006103448235, 0.03923197330006567, 0.20225858991120949, -0.020864713635008192]\n",
      "Best loss:  6.100805979951897 with chromsome:  [4.9962006103448235, 0.03923197330006567, 0.20225858991120949, -0.020864713635008192]\n",
      "Best loss:  6.100805979951897 with chromsome:  [4.9962006103448235, 0.03923197330006567, 0.20225858991120949, -0.020864713635008192]\n",
      "Best loss:  6.007292977249033 with chromsome:  [4.986411905019624, 0.03923197330006567, 0.18158513989759317, -0.020864713635008192]\n",
      "Best loss:  6.007292977249033 with chromsome:  [4.986411905019624, 0.03923197330006567, 0.18158513989759317, -0.020864713635008192]\n",
      "Best loss:  6.007292977249033 with chromsome:  [4.986411905019624, 0.03923197330006567, 0.18158513989759317, -0.020864713635008192]\n",
      "Best loss:  5.991953487230083 with chromsome:  [4.9962006103448235, 0.03923197330006567, 0.18158513989759317, -0.020864713635008192]\n",
      "Best loss:  5.991953487230083 with chromsome:  [4.9962006103448235, 0.03923197330006567, 0.18158513989759317, -0.020864713635008192]\n",
      "Best loss:  5.991953487230083 with chromsome:  [4.9962006103448235, 0.03923197330006567, 0.18158513989759317, -0.020864713635008192]\n",
      "Best loss:  5.716728023139837 with chromsome:  [4.9962006103448235, 0.03923197330006567, 0.18158513989759317, -0.014783313870118109]\n",
      "Best loss:  5.716728023139837 with chromsome:  [4.9962006103448235, 0.03923197330006567, 0.18158513989759317, -0.014783313870118109]\n",
      "Best loss:  5.716728023139837 with chromsome:  [4.9962006103448235, 0.03923197330006567, 0.18158513989759317, -0.014783313870118109]\n",
      "Best loss:  5.716728023139837 with chromsome:  [4.9962006103448235, 0.03923197330006567, 0.18158513989759317, -0.014783313870118109]\n",
      "Best loss:  5.716728023139837 with chromsome:  [4.9962006103448235, 0.03923197330006567, 0.18158513989759317, -0.014783313870118109]\n",
      "Best loss:  5.716728023139837 with chromsome:  [4.9962006103448235, 0.03923197330006567, 0.18158513989759317, -0.014783313870118109]\n",
      "Best loss:  5.716728023139837 with chromsome:  [4.9962006103448235, 0.03923197330006567, 0.18158513989759317, -0.014783313870118109]\n",
      "Best loss:  5.716728023139837 with chromsome:  [4.9962006103448235, 0.03923197330006567, 0.18158513989759317, -0.014783313870118109]\n",
      "Best loss:  5.716728023139837 with chromsome:  [4.9962006103448235, 0.03923197330006567, 0.18158513989759317, -0.014783313870118109]\n",
      "Best loss:  5.443879728122306 with chromsome:  [4.986411905019624, 0.053366038013067385, 0.18158513989759317, -0.020864713635008192]\n",
      "Best loss:  5.443879728122306 with chromsome:  [4.986411905019624, 0.053366038013067385, 0.18158513989759317, -0.020864713635008192]\n",
      "Best loss:  5.443879728122306 with chromsome:  [4.986411905019624, 0.053366038013067385, 0.18158513989759317, -0.020864713635008192]\n",
      "Best loss:  5.443879728122306 with chromsome:  [4.986411905019624, 0.053366038013067385, 0.18158513989759317, -0.020864713635008192]\n",
      "Best loss:  5.443879728122306 with chromsome:  [4.986411905019624, 0.053366038013067385, 0.18158513989759317, -0.020864713635008192]\n",
      "Best loss:  5.443879728122306 with chromsome:  [4.986411905019624, 0.053366038013067385, 0.18158513989759317, -0.020864713635008192]\n",
      "Best loss:  5.443879728122306 with chromsome:  [4.986411905019624, 0.053366038013067385, 0.18158513989759317, -0.020864713635008192]\n",
      "Best loss:  5.443879728122306 with chromsome:  [4.986411905019624, 0.053366038013067385, 0.18158513989759317, -0.020864713635008192]\n",
      "Best loss:  5.4182721433416985 with chromsome:  [4.9962006103448235, 0.040045749808035325, 0.18158513989759317, -0.014783313870118109]\n",
      "Best loss:  4.050025954371112 with chromsome:  [4.032465800216558, 0.053366038013067385, 0.18158513989759317, -0.014783313870118109]\n",
      "Best loss:  3.8358894702761392 with chromsome:  [3.4602868935532394, 0.053366038013067385, 0.18158513989759317, -0.020864713635008192]\n",
      "Best loss:  3.785563987211004 with chromsome:  [3.6224711525603293, 0.053366038013067385, 0.18158513989759317, -0.020864713635008192]\n",
      "Best loss:  3.785563987211004 with chromsome:  [3.6224711525603293, 0.053366038013067385, 0.18158513989759317, -0.020864713635008192]\n",
      "Best loss:  3.0931348748788245 with chromsome:  [4.986411905019624, 0.053366038013067385, 0.13929861917686082, -0.020864713635008192]\n",
      "Best loss:  3.0931348748788245 with chromsome:  [4.986411905019624, 0.053366038013067385, 0.13929861917686082, -0.020864713635008192]\n",
      "Best loss:  3.0931348748788245 with chromsome:  [4.986411905019624, 0.053366038013067385, 0.13929861917686082, -0.020864713635008192]\n",
      "Best loss:  3.0931348748788245 with chromsome:  [4.986411905019624, 0.053366038013067385, 0.13929861917686082, -0.020864713635008192]\n",
      "Best loss:  3.0931348748788245 with chromsome:  [4.986411905019624, 0.053366038013067385, 0.13929861917686082, -0.020864713635008192]\n",
      "Best loss:  3.03290467239435 with chromsome:  [4.49729136839823, 0.053366038013067385, 0.13929861917686082, -0.020864713635008192]\n",
      "Best loss:  3.03290467239435 with chromsome:  [4.49729136839823, 0.053366038013067385, 0.13929861917686082, -0.020864713635008192]\n",
      "Best loss:  3.003289680826376 with chromsome:  [4.986411905019624, 0.053366038013067385, 0.11297964563342866, -0.020864713635008192]\n",
      "Best loss:  3.003289680826376 with chromsome:  [4.986411905019624, 0.053366038013067385, 0.11297964563342866, -0.020864713635008192]\n",
      "Best loss:  3.003289680826376 with chromsome:  [4.986411905019624, 0.053366038013067385, 0.11297964563342866, -0.020864713635008192]\n",
      "Best loss:  2.9385578508968457 with chromsome:  [4.49729136839823, 0.053366038013067385, 0.13929861917686082, -0.014783313870118109]\n",
      "Best loss:  2.9385578508968457 with chromsome:  [4.49729136839823, 0.053366038013067385, 0.13929861917686082, -0.014783313870118109]\n",
      "Best loss:  2.826703718713794 with chromsome:  [4.986411905019624, 0.053366038013067385, 0.11297964563342866, -0.014783313870118109]\n",
      "Best loss:  2.826703718713794 with chromsome:  [4.986411905019624, 0.053366038013067385, 0.11297964563342866, -0.014783313870118109]\n",
      "Best loss:  2.826703718713794 with chromsome:  [4.986411905019624, 0.053366038013067385, 0.11297964563342866, -0.014783313870118109]\n",
      "Best loss:  2.826703718713794 with chromsome:  [4.986411905019624, 0.053366038013067385, 0.11297964563342866, -0.014783313870118109]\n",
      "Best loss:  2.826703718713794 with chromsome:  [4.986411905019624, 0.053366038013067385, 0.11297964563342866, -0.014783313870118109]\n",
      "Best loss:  2.826703718713794 with chromsome:  [4.986411905019624, 0.053366038013067385, 0.11297964563342866, -0.014783313870118109]\n",
      "Best loss:  2.826703718713794 with chromsome:  [4.986411905019624, 0.053366038013067385, 0.11297964563342866, -0.014783313870118109]\n"
     ]
    }
   ],
   "source": [
    "losses_list, population = run_GA()\n"
   ]
  },
  {
   "cell_type": "code",
   "execution_count": 83,
   "metadata": {},
   "outputs": [
    {
     "data": {
      "image/png": "[encoded data removed]",
      "text/plain": [
       "<Figure size 640x480 with 1 Axes>"
      ]
     },
     "metadata": {},
     "output_type": "display_data"
    }
   ],
   "source": [
    "print\n",
    "plt.plot(losses_list)\n",
    "plt.show()"
   ]
  }
 ],
 "metadata": {
  "kernelspec": {
   "display_name": ".venv",
   "language": "python",
   "name": "python3"
  },
  "language_info": {
   "codemirror_mode": {
    "name": "ipython",
    "version": 3
   },
   "file_extension": ".py",
   "mimetype": "text/x-python",
   "name": "python",
   "nbconvert_exporter": "python",
   "pygments_lexer": "ipython3",
   "version": "3.12.4"
  }
 },
 "nbformat": 4,
 "nbformat_minor": 2
}

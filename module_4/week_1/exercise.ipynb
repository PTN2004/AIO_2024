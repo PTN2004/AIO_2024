{
 "cells": [
  {
   "cell_type": "markdown",
   "metadata": {},
   "source": [
    "# Bài tập 1:"
   ]
  },
  {
   "cell_type": "code",
   "execution_count": 1,
   "metadata": {},
   "outputs": [
    {
     "data": {
      "text/html": [
       "<div>\n",
       "<style scoped>\n",
       "    .dataframe tbody tr th:only-of-type {\n",
       "        vertical-align: middle;\n",
       "    }\n",
       "\n",
       "    .dataframe tbody tr th {\n",
       "        vertical-align: top;\n",
       "    }\n",
       "\n",
       "    .dataframe thead th {\n",
       "        text-align: right;\n",
       "    }\n",
       "</style>\n",
       "<table border=\"1\" class=\"dataframe\">\n",
       "  <thead>\n",
       "    <tr style=\"text-align: right;\">\n",
       "      <th></th>\n",
       "      <th>TV</th>\n",
       "      <th>Radio</th>\n",
       "      <th>Newspaper</th>\n",
       "      <th>Sales</th>\n",
       "    </tr>\n",
       "  </thead>\n",
       "  <tbody>\n",
       "    <tr>\n",
       "      <th>0</th>\n",
       "      <td>230.1</td>\n",
       "      <td>37.8</td>\n",
       "      <td>69.2</td>\n",
       "      <td>22.1</td>\n",
       "    </tr>\n",
       "    <tr>\n",
       "      <th>1</th>\n",
       "      <td>44.5</td>\n",
       "      <td>39.3</td>\n",
       "      <td>45.1</td>\n",
       "      <td>10.4</td>\n",
       "    </tr>\n",
       "    <tr>\n",
       "      <th>2</th>\n",
       "      <td>17.2</td>\n",
       "      <td>45.9</td>\n",
       "      <td>69.3</td>\n",
       "      <td>12.0</td>\n",
       "    </tr>\n",
       "    <tr>\n",
       "      <th>3</th>\n",
       "      <td>151.5</td>\n",
       "      <td>41.3</td>\n",
       "      <td>58.5</td>\n",
       "      <td>16.5</td>\n",
       "    </tr>\n",
       "    <tr>\n",
       "      <th>4</th>\n",
       "      <td>180.8</td>\n",
       "      <td>10.8</td>\n",
       "      <td>58.4</td>\n",
       "      <td>17.9</td>\n",
       "    </tr>\n",
       "  </tbody>\n",
       "</table>\n",
       "</div>"
      ],
      "text/plain": [
       "      TV  Radio  Newspaper  Sales\n",
       "0  230.1   37.8       69.2   22.1\n",
       "1   44.5   39.3       45.1   10.4\n",
       "2   17.2   45.9       69.3   12.0\n",
       "3  151.5   41.3       58.5   16.5\n",
       "4  180.8   10.8       58.4   17.9"
      ]
     },
     "execution_count": 1,
     "metadata": {},
     "output_type": "execute_result"
    }
   ],
   "source": [
    "import pandas as pd\n",
    "import numpy as np\n",
    "import matplotlib.pyplot as plt\n",
    "import random\n",
    "# load data\n",
    "data = pd.read_csv(\"data/advertising.csv\")\n",
    "\n",
    "data.head()"
   ]
  },
  {
   "cell_type": "code",
   "execution_count": 2,
   "metadata": {},
   "outputs": [],
   "source": [
    "def get_columns(data, index):\n",
    "    # get all row of index column\n",
    "    result = [row[index] for row in data]\n",
    "    return result\n",
    "\n",
    "def prepare_data(file_name_data):\n",
    "    data = np.genfromtxt(file_name_data, skip_header=1, delimiter=',').tolist()\n",
    "    \n",
    "    tv_data = get_columns(data, 0)\n",
    "    radio_data = get_columns(data, 1)\n",
    "    newspaper_data = get_columns(data, 2)\n",
    "    sales_data = get_columns(data, 3)\n",
    "\n",
    "    # Build X input and y output for training\n",
    "    X = [tv_data, radio_data, newspaper_data]\n",
    "    y = sales_data\n",
    "\n",
    "    return X, y\n"
   ]
  },
  {
   "cell_type": "code",
   "execution_count": 3,
   "metadata": {},
   "outputs": [
    {
     "data": {
      "text/plain": [
       "[[624.1, 175.1, 300.5], 78.9]"
      ]
     },
     "execution_count": 3,
     "metadata": {},
     "output_type": "execute_result"
    }
   ],
   "source": [
    "# Question 1:\n",
    "X, y = prepare_data(\"data/advertising.csv\")\n",
    "list = [[sum(x[:5]) for x in X], sum(y[:5])]\n",
    "list"
   ]
  },
  {
   "cell_type": "markdown",
   "metadata": {},
   "source": [
    "# Bài tập 2:"
   ]
  },
  {
   "cell_type": "code",
   "execution_count": 4,
   "metadata": {},
   "outputs": [],
   "source": [
    "def initialize_parameters():\n",
    "    w1, w2, w3, b = (0.016992259082509283, 0.0070783670518262355, -0.002307860847821344 , 0)\n",
    "    return w1, w2, w3, b\n"
   ]
  },
  {
   "cell_type": "code",
   "execution_count": 5,
   "metadata": {},
   "outputs": [],
   "source": [
    "def predict(x1, x2, x3, w1, w2, w3, b):\n",
    "    return w1 * x1 + w2 * x2 + w3 * x3 + b"
   ]
  },
  {
   "cell_type": "code",
   "execution_count": 6,
   "metadata": {},
   "outputs": [
    {
     "name": "stdout",
     "output_type": "stream",
     "text": [
      "1.0\n"
     ]
    }
   ],
   "source": [
    "# Question 2:\n",
    "y = predict(x1=1, x2=1, x3=1, w1=0, w2=0.5, w3=0.5, b=0)\n",
    "print(y)"
   ]
  },
  {
   "cell_type": "code",
   "execution_count": 7,
   "metadata": {},
   "outputs": [],
   "source": [
    "def compute_loss_mse(y, y_hat):\n",
    "    return (y_hat - y)**2"
   ]
  },
  {
   "cell_type": "code",
   "execution_count": 8,
   "metadata": {},
   "outputs": [
    {
     "name": "stdout",
     "output_type": "stream",
     "text": [
      "0.25\n"
     ]
    }
   ],
   "source": [
    "# Question 3:\n",
    "l = compute_loss_mse(y=1, y_hat=0.5)\n",
    "print(l)"
   ]
  },
  {
   "cell_type": "code",
   "execution_count": 9,
   "metadata": {},
   "outputs": [],
   "source": [
    "def compute_loss_mae(y, y_hat):\n",
    "    return abs(y_hat - y)\n"
   ]
  },
  {
   "cell_type": "code",
   "execution_count": 10,
   "metadata": {},
   "outputs": [],
   "source": [
    "def compute_gradient_wi(x, y, y_hat):\n",
    "    return 2*x*(y_hat - y)\n"
   ]
  },
  {
   "cell_type": "code",
   "execution_count": 11,
   "metadata": {},
   "outputs": [
    {
     "name": "stdout",
     "output_type": "stream",
     "text": [
      "-1.0\n"
     ]
    }
   ],
   "source": [
    "# Question 4:\n",
    "g_wi = compute_gradient_wi(x=1, y=1, y_hat=0.5)\n",
    "print(g_wi)"
   ]
  },
  {
   "cell_type": "code",
   "execution_count": 12,
   "metadata": {},
   "outputs": [],
   "source": [
    "def compute_gradient_b(y, y_hat):\n",
    "    return 2*(y_hat - y)"
   ]
  },
  {
   "cell_type": "code",
   "execution_count": 13,
   "metadata": {},
   "outputs": [
    {
     "name": "stdout",
     "output_type": "stream",
     "text": [
      "-1.0\n"
     ]
    }
   ],
   "source": [
    "# Question 5:\n",
    "g_b = compute_gradient_b(y=1, y_hat=0.5)\n",
    "print(g_b)"
   ]
  },
  {
   "cell_type": "code",
   "execution_count": 14,
   "metadata": {},
   "outputs": [],
   "source": [
    "def update_weight_wi(wi, dl_dwi, learning_rate):\n",
    "    return wi - learning_rate * dl_dwi"
   ]
  },
  {
   "cell_type": "code",
   "execution_count": 15,
   "metadata": {},
   "outputs": [
    {
     "name": "stdout",
     "output_type": "stream",
     "text": [
      "1.000005\n"
     ]
    }
   ],
   "source": [
    "# Question 6:\n",
    "after_wi = update_weight_wi(1, -0.5, 1e-5)\n",
    "print(after_wi)"
   ]
  },
  {
   "cell_type": "code",
   "execution_count": 16,
   "metadata": {},
   "outputs": [],
   "source": [
    "def update_weight_b(b, dl_db, learning_rate):\n",
    "    return b - learning_rate * dl_db"
   ]
  },
  {
   "cell_type": "code",
   "execution_count": 17,
   "metadata": {},
   "outputs": [
    {
     "name": "stdout",
     "output_type": "stream",
     "text": [
      "0.50001\n"
     ]
    }
   ],
   "source": [
    "# Question 7:\n",
    "after_b = update_weight_b(0.5, -1, 1e-5)\n",
    "print(after_b)"
   ]
  },
  {
   "cell_type": "code",
   "execution_count": 18,
   "metadata": {},
   "outputs": [],
   "source": [
    "def implement_linear_regression(X, y, learning_rate=1e-5, epochs=50, mse=True):\n",
    "    losses = []\n",
    "    w1, w2, w3, b = initialize_parameters()\n",
    "    N = len(y)\n",
    "\n",
    "    for epoch in range(epochs):\n",
    "        for i in range(N):\n",
    "            x1 = X[0][i]\n",
    "            x2 = X[1][i]\n",
    "            x3 = X[2][i]\n",
    "\n",
    "            # compute y_hat\n",
    "            y_hat = predict(x1, x2, x3, w1, w2, w3, b)\n",
    "\n",
    "            # Compute loss wiht mse (Mean Squared Error)\n",
    "            if mse: \n",
    "                loss = compute_loss_mse(y[i], y_hat)\n",
    "            else:\n",
    "                loss = compute_loss_mae(y[i], y_hat)\n",
    "\n",
    "\n",
    "            # Compute gradient for w1, w2, w3, b\n",
    "            dl_dw1 = compute_gradient_wi(x1, y[i], y_hat)\n",
    "            dl_dw2 = compute_gradient_wi(x2, y[i], y_hat)\n",
    "            dl_dw3 = compute_gradient_wi(x3, y[i], y_hat)\n",
    "            dl_db = compute_gradient_b(y[i], y_hat)\n",
    "\n",
    "            # Update w1, w2, w3, b\n",
    "            w1 = update_weight_wi(w1, dl_dw1, learning_rate)\n",
    "            w2 = update_weight_wi(w2, dl_dw2, learning_rate)\n",
    "            w3 = update_weight_wi(w3, dl_dw3, learning_rate)\n",
    "            b = update_weight_b(b, dl_db, learning_rate)\n",
    "\n",
    "            losses.append(loss)\n",
    "\n",
    "    return w1, w2, w3, b, losses\n"
   ]
  },
  {
   "cell_type": "code",
   "execution_count": 19,
   "metadata": {},
   "outputs": [
    {
     "data": {
      "image/png": "[encoded data removed]",
      "text/plain": [
       "<Figure size 640x480 with 1 Axes>"
      ]
     },
     "metadata": {},
     "output_type": "display_data"
    }
   ],
   "source": [
    "X, y = prepare_data(\"data/advertising.csv\")\n",
    "w1, w2, w3, b, loss = implement_linear_regression(X, y, mse=False)\n",
    "\n",
    "plt.plot(loss[:100])\n",
    "plt.xlabel(\"#iteration\")\n",
    "plt.ylabel(\"Loss\")\n",
    "plt.show()\n",
    "# Question 9:"
   ]
  },
  {
   "cell_type": "code",
   "execution_count": 20,
   "metadata": {},
   "outputs": [
    {
     "name": "stdout",
     "output_type": "stream",
     "text": [
      "0.07405984066396477 0.15917360263437663 0.017561197559948935 0.13924260940219846\n"
     ]
    }
   ],
   "source": [
    "# Question 8:\n",
    "X, y = prepare_data(\"data/advertising.csv\")\n",
    "w1, w2, w3, b, loss = implement_linear_regression(X, y)\n",
    "print(w1, w2, w3, b)"
   ]
  },
  {
   "cell_type": "code",
   "execution_count": 21,
   "metadata": {},
   "outputs": [
    {
     "name": "stdout",
     "output_type": "stream",
     "text": [
      "predicted sales is 8.176413319549823\n"
     ]
    }
   ],
   "source": [
    "# Question 9:\n",
    "# given new data \n",
    "tv = 19.2\n",
    "radio = 35.9 \n",
    "newspaper = 51.3\n",
    "X,y = prepare_data('data/advertising.csv')\n",
    "(w1,w2,w3,b, losses) = implement_linear_regression(X, y, epochs=50, learning_rate=1e-5) \n",
    "sales = predict(tv, radio, newspaper, w1, w2, w3, b)\n",
    "print(f'predicted sales is {sales}')"
   ]
  },
  {
   "cell_type": "markdown",
   "metadata": {},
   "source": [
    "# Bài tập 3:"
   ]
  },
  {
   "cell_type": "code",
   "execution_count": 22,
   "metadata": {},
   "outputs": [
    {
     "name": "stdout",
     "output_type": "stream",
     "text": [
      "0.5\n"
     ]
    }
   ],
   "source": [
    "# Question 10:\n",
    "l = compute_loss_mae(y=1, y_hat=0.5)\n",
    "print(l)"
   ]
  },
  {
   "cell_type": "code",
   "execution_count": 23,
   "metadata": {},
   "outputs": [
    {
     "data": {
      "image/png": "[encoded data removed]",
      "text/plain": [
       "<Figure size 640x480 with 1 Axes>"
      ]
     },
     "metadata": {},
     "output_type": "display_data"
    }
   ],
   "source": [
    "X, y = prepare_data(\"data/advertising.csv\")\n",
    "w1, w2, w3, b, losses = implement_linear_regression(X, y, epochs=100)\n",
    "\n",
    "plt.plot(losses[:100])\n",
    "plt.xlabel(\"#iteration\")\n",
    "plt.ylabel(\"MAE Loss\")\n",
    "plt.show()\n"
   ]
  },
  {
   "cell_type": "code",
   "execution_count": 24,
   "metadata": {},
   "outputs": [],
   "source": [
    "def implement_linear_regression_N_samles(X, y, learning_rate=1e-5, epochs=50):\n",
    "    losses = []\n",
    "    w1, w2, w3, b = initialize_parameters()\n",
    "    N = len(y)\n",
    "\n",
    "    for epoch in range(epochs):\n",
    "        dw1_total = 0\n",
    "        dw2_total = 0\n",
    "        dw3_total = 0\n",
    "        db_total = 0\n",
    "\n",
    "        loss_total = 0\n",
    "\n",
    "        for i in range(N):\n",
    "            x1 = X[0][i]\n",
    "            x2 = X[1][i]\n",
    "            x3 = X[2][i]\n",
    "\n",
    "            # compute y_hat\n",
    "            y_hat = predict(x1, x2, x3, w1, w2, w3, b)\n",
    "\n",
    "            # Compute loss wiht mse (Mean Squared Error)\n",
    "            loss = compute_loss_mse(y[i], y_hat)\n",
    "            loss_total += loss\n",
    "\n",
    "            # Compute gradient for w1, w2, w3, b\n",
    "            dl_dw1 = compute_gradient_wi(x1, y[i], y_hat)\n",
    "            dl_dw2 = compute_gradient_wi(x2, y[i], y_hat)\n",
    "            dl_dw3 = compute_gradient_wi(x3, y[i], y_hat)\n",
    "            dl_db = compute_gradient_b(y[i], y_hat)\n",
    "\n",
    "            dw1_total += dl_dw1\n",
    "            dw2_total += dl_dw2\n",
    "            dw3_total += dl_dw3\n",
    "            db_total += dl_db\n",
    "\n",
    "\n",
    "            # Update w1, w2, w3, b\n",
    "        w1 = update_weight_wi(w1, dw1_total/N, learning_rate)\n",
    "        w2 = update_weight_wi(w2, dw2_total/N, learning_rate)\n",
    "        w3 = update_weight_wi(w3, dw3_total/N, learning_rate)\n",
    "        b = update_weight_b(b, db_total/N, learning_rate)\n",
    "\n",
    "        losses.append(loss_total/N)\n",
    "    return w1, w2, w3, b, losses\n",
    "\n",
    "\n",
    "\n",
    "            \n",
    "            "
   ]
  },
  {
   "cell_type": "code",
   "execution_count": 25,
   "metadata": {},
   "outputs": [
    {
     "name": "stdout",
     "output_type": "stream",
     "text": [
      "[172.98395547828923, 39.4081674745134, 18.15746728564735, 14.634633779162357, 13.913880074022757, 13.640049637323427, 13.441395294810789, 13.259118517018994, 13.083802587178743, 12.913826664416215, 12.748804182322559, 12.58854742072041, 12.432904005847659, 12.281730988201284, 12.134890631437667, 11.992249630675893, 11.853678875589457, 11.719053303032835, 11.588251767260099, 11.461156916275085, 11.33765507239911, 11.217636116651946, 11.100993376782947, 10.987623518830576, 10.877426442098113, 10.77030517743778, 10.666165788738786, 10.564917277518694, 10.466471490519933, 10.370743030217112, 10.277649168143098, 10.187109760945372, 10.099047169086274, 10.013386178104167, 9.930053922354572, 9.848979811153313, 9.770095457245782, 9.69333460752933, 9.61863307595747, 9.545928678557278, 9.475161170493593, 9.406272185115144, 9.339205174920474, 9.273905354383018, 9.210319644576826, 9.148396619546123, 9.088086454363877, 9.029340874825948, 8.972113108729593, 8.916357838686066, 8.86203115641928, 8.809090518503508, 8.757494703494807, 8.707203770412436, 8.658179018527385, 8.610382948417252, 8.563779224247194, 8.518332637238558, 8.474009070287702, 8.43077546369872, 8.388599781995037, 8.347450981775916, 8.307298980584829, 8.268114626757923, 8.229869670221678, 8.19253673420983, 8.15608928787063, 8.12050161973632, 8.08574881202778, 8.051806715767922, 8.018651926678372, 7.986261761834891, 7.95461423705739, 7.923688045011654, 7.893462534000133, 7.8639176874203045, 7.83503410386934, 7.80679297787497, 7.779176081232567, 7.752165744929602, 7.72574484163872, 7.699896768761744, 7.674605432007078, 7.649855229483877, 7.62563103629648, 7.6019181896236, 7.578702474266847, 7.555970108653729, 7.533707731281146, 7.511902387584981, 7.490541517222969, 7.4696129417572354, 7.449104852724421, 7.429005800080809, 7.40930468101089, 7.389990729087756, 7.3710535037744, 7.352482880254963, 7.334269039585795, 7.3164024591560475, 7.298873903448158, 7.281674415088787, 7.264795306180925, 7.248228149908579, 7.231964772405109, 7.21599724487724, 7.200317875976506, 7.184919204410329, 7.169793991785319, 7.154935215675346, 7.140336062907395, 7.1259899230582695, 7.111890382155645, 7.098031216576777, 7.084406387138987, 7.071010033375559, 7.057836467991437, 7.044880171492962, 7.032135786986158, 7.019598115138331, 7.007262109297766, 6.995122870766592, 6.983175644221961, 6.97141581328095, 6.959838896204477, 6.948440541736098, 6.937216525071263, 6.926162743952999, 6.915275214890005, 6.904550069493293, 6.893983550927793, 6.883572010475055, 6.8733119042037005, 6.863199789744297, 6.853232323165193, 6.843406255946315, 6.833718432047624, 6.824165785069536, 6.814745335502181, 6.805454188060788, 6.796289529104518, 6.787248624136031, 6.77832881537939, 6.769527519433662, 6.7608422249999585, 6.752270490679593, 6.7438099428410485, 6.735458273553674, 6.727213238585949, 6.719072655466337, 6.71103440160469, 6.703096412472393, 6.695256679839321, 6.687513250065844, 6.679864222448185, 6.672307747615401, 6.664842025976409, 6.65746530621544, 6.6501758838344225, 6.642972099740851, 6.635852338879662, 6.628815028907696, 6.621858638909565, 6.6149816781534305, 6.6081826948855795, 6.601460275162485, 6.59481304171928, 6.588239652873362, 6.581738801462146, 6.575309213813837, 6.568949648750196, 6.562658896620291, 6.556435778364231, 6.550279144606037, 6.544187874774614, 6.5381608762520305, 6.532197083548178, 6.526295457501078, 6.520454984501907, 6.5146746757440965, 6.508953566495615, 6.503290715393847, 6.497685203762237, 6.49213613494808, 6.486642633680805, 6.481203845450055, 6.475818935902987, 6.470487090260167, 6.465207512749543, 6.459979426057734, 6.4548020707984115, 6.449674704996913, 6.444596603590792, 6.4395670579457, 6.434585375386193, 6.4296508787409365, 6.424762905901873, 6.419920809396931, 6.415123955975847, 6.410371726208648, 6.4056635140965, 6.400998726694411, 6.396376783745526, 6.391797117326515, 6.387259171503912, 6.382762402000863, 6.378306275874065, 6.373890271200546, 6.369513876773974, 6.3651765918102505, 6.360877925661989, 6.356617397541718, 6.352394536253474, 6.348208879932514, 6.344059975792933, 6.339947379882897, 6.33587065684733, 6.331829379697703, 6.327823129588818, 6.323851495602291, 6.319914074536561, 6.316010470703252, 6.312140295729607, 6.3083031683668604, 6.304498714304377, 6.300726565989337, 6.296986362451827, 6.293277749135154, 6.289600377731189, 6.285953906020673, 6.282337997718242, 6.278752322322041, 6.275196554967851, 6.271670376287469, 6.268173472271363, 6.264705534135299, 6.261266258190957, 6.257855345720359, 6.254472502853941, 6.251117440452284, 6.2477898739912066, 6.2444895234503415, 6.241216113204871, 6.23796937192045, 6.234749032451203, 6.231554831740689, 6.2283865107256835, 6.225243814242819, 6.22212649093789, 6.219034293177746, 6.215966976964756, 6.212924301853735, 6.209906030871219, 6.206911930437064, 6.203941770288282, 6.20099532340505, 6.1980723659388, 6.195172677142374, 6.192296039302136, 6.18944223767199, 6.18661106040927, 6.183802298512444, 6.181015745760502, 6.178251198654104, 6.1755084563583065, 6.172787320646933, 6.170087595848449, 6.16740908879333, 6.164751608762888, 6.162114967439513, 6.159498978858253, 6.1569034593597065, 6.154328227544254, 6.151773104227448, 6.149237912396661, 6.146722477168887, 6.144226625749666, 6.141750187393118, 6.139292993363045, 6.13685487689505, 6.1344356731596505, 6.132035219226415, 6.129653354028947, 6.127289918330891, 6.12494475469275, 6.12261770743959, 6.120308622629571, 6.118017348023296, 6.1157437330539395, 6.113487628798133, 6.111248887947601, 6.109027364781516, 6.1068229151395075, 6.104635396395434, 6.102464667431701, 6.100310588614325, 6.0981730217685035, 6.096051830154892, 6.0939468784463795, 6.091858032705457, 6.089785160362185, 6.087728130192582, 6.085686812297618, 6.083661078082725, 6.081650800237665, 6.079655852717034, 6.077676110721126, 6.07571145067726, 6.073761750221543, 6.071826888181071, 6.06990674455651, 6.068001200505098, 6.0661101383240075, 6.064233441434105, 6.062370994364077, 6.060522682734862, 6.0586883932445, 6.0568680136532524, 6.055061432769058, 6.053268540433356, 6.051489227507152, 6.049723385857382, 6.047970908343627, 6.0462316888050465, 6.04450562204761, 6.042792603831612, 6.041092530859373, 6.039405300763323, 6.0377308120941935, 6.036068964309514, 6.034419657762343, 6.032782793690203, 6.031158274204255, 6.029546002278648, 6.027945881740137, 6.026357817257827, 6.024781714333188, 6.023217479290201, 6.021665019265731, 6.020124242200074, 6.018595056827616, 6.0170773726678, 6.0155711000161025, 6.014076149935319, 6.012592434246874, 6.011119865522392, 6.009658357075368, 6.008207822952954, 6.006768177928, 6.005339337491097, 6.003921217842852, 6.002513735886255, 6.001116809219177, 5.9997303561270074, 5.998354295575402, 5.996988547203172, 5.995633031315231, 5.9942876688757485, 5.992952381501316, 5.991627091454294, 5.990311721636251, 5.989006195581458, 5.9877104374505405, 5.986424372024224, 5.985147924697101, 5.983881021471619, 5.982623588952061, 5.9813755543386184, 5.980136845421622, 5.978907390575788, 5.977687118754571, 5.976475959484622, 5.975273842860288, 5.974080699538201, 5.972896460731961, 5.971721058206878, 5.9705544242747886, 5.96939649178893, 5.968247194138932, 5.967106465245802, 5.9659742395570525, 5.964850452041826, 5.963735038186167, 5.962627933988241, 5.961529075953739, 5.960438401091235, 5.959355846907698, 5.9582813514039765, 5.957214853070384, 5.956156290882355, 5.955105604296097, 5.954062733244357, 5.953027618132211, 5.952000199832887, 5.9509804196837015, 5.949968219481935, 5.948963541480895, 5.947966328385914, 5.946976523350432, 5.94599406997213, 5.9450189122891235, 5.9440509947761475, 5.943090262340844, 5.942136660320045, 5.941190134476143, 5.940250630993433, 5.9393180964745955, 5.9383924779370965, 5.937473722809749, 5.9365617789292, 5.9356565945365585, 5.934758118273968, 5.933866299181297, 5.932981086692766, 5.9321024306337495, 5.931230281217446, 5.930364589041735, 5.9295053050859625, 5.9286523807078, 5.92780576764013, 5.926965417987983, 5.926131284225469, 5.925303319192733, 5.924481476093039, 5.923665708489737, 5.92285597030335, 5.9220522158086935, 5.92125439963198, 5.920462476747993, 5.919676402477246, 5.918896132483199, 5.918121622769502, 5.917352829677259, 5.916589709882288, 5.915832220392475, 5.915080318545082, 5.914333962004111, 5.9135931087577305, 5.912857717115637, 5.912127745706528, 5.911403153475533, 5.910683899681736, 5.909969943895633, 5.909261245996707, 5.9085577661709445, 5.907859464908431, 5.907166303000959, 5.906478241539599, 5.905795241912363, 5.905117265801887, 5.904444275183078, 5.903776232320826, 5.903113099767723, 5.90245484036182, 5.901801417224358, 5.901152793757575, 5.90050893364249, 5.899869800836733, 5.899235359572374, 5.898605574353775, 5.897980409955482, 5.897359831420097, 5.896743804056211, 5.896132293436308, 5.89552526539474, 5.894922686025653, 5.894324521681018, 5.893730738968577, 5.893141304749896, 5.892556186138371, 5.891975350497302, 5.891398765437929, 5.890826398817543, 5.890258218737546, 5.8896941935416, 5.889134291813729, 5.888578482376476, 5.888026734289063, 5.8874790168455435, 5.886935299573018, 5.886395552229829, 5.885859744803778, 5.885327847510341, 5.884799830790962, 5.884275665311267, 5.883755321959365, 5.883238771844127, 5.882725986293499, 5.882216936852816, 5.881711595283125, 5.881209933559546, 5.8807119238696215, 5.88021753861167, 5.879726750393215, 5.87923953202932, 5.87875585654107, 5.878275697153919, 5.877799027296192, 5.877325820597482, 5.876856050887155, 5.876389692192781, 5.8759267187386435, 5.875467104944225, 5.875010825422719, 5.874557854979568, 5.874108168610953, 5.873661741502384, 5.873218549027216, 5.8727785667452475, 5.872341770401277, 5.871908135923695, 5.871477639423098, 5.871050257190887, 5.870625965697882, 5.870204741592972, 5.869786561701753, 5.869371403025183, 5.868959242738233, 5.868550058188582, 5.868143826895293, 5.867740526547492, 5.867340135003118, 5.866942630287599, 5.866547990592593, 5.866156194274703, 5.865767219854272, 5.865381046014083, 5.864997651598162, 5.8646170156105395, 5.8642391172140105, 5.863863935728995, 5.863491450632255, 5.863121641555775, 5.862754488285545, 5.862389970760413, 5.862028069070913, 5.861668763458104, 5.861312034312453, 5.8609578621726826, 5.860606227724648, 5.86025711180022, 5.859910495376187, 5.859566359573147, 5.859224685654417, 5.858885455024949, 5.858548649230263, 5.858214249955376, 5.85788223902374, 5.857552598396208, 5.857225310169971, 5.856900356577543, 5.856577719985731, 5.8562573828946, 5.8559393279364835, 5.855623537874989, 5.855309995603971, 5.854998684146567, 5.854689586654213, 5.854382686405688, 5.854077966806114, 5.853775411386025, 5.853475003800412, 5.853176727827784, 5.852880567369215, 5.852586506447443, 5.852294529205934, 5.852004619907962, 5.851716762935712, 5.851430942789374, 5.851147144086259, 5.850865351559907, 5.850585550059197, 5.850307724547491, 5.8500318601017485, 5.849757941911707, 5.849485955278966, 5.849215885616192, 5.848947718446259, 5.848681439401425, 5.848417034222473, 5.848154488757938, 5.847893788963245, 5.847634920899944, 5.847377870734853, 5.847122624739335, 5.8468691692884445, 5.846617490860162, 5.846367576034619, 5.846119411493339, 5.845872984018439, 5.845628280491895, 5.845385287894788, 5.845143993306524, 5.844904383904127, 5.84466644696148, 5.8444301698486, 5.84419554003091, 5.8439625450685035, 5.843731172615475, 5.843501410419133, 5.84327324631937, 5.843046668247931, 5.842821664227683, 5.842598222372017, 5.842376330884073, 5.842155978056101, 5.84193715226879, 5.841719841990597, 5.8415040357770796, 5.841289722270228, 5.841076890197839, 5.840865528372838, 5.840655625692644, 5.840447171138555, 5.840240153775071, 5.840034562749306, 5.839830387290335, 5.839627616708598, 5.839426240395261, 5.83922624782161, 5.839027628538491, 5.838830372175621, 5.838634468441082, 5.83843990712066, 5.838246678077319, 5.838054771250549, 5.837864176655849, 5.837674884384126, 5.837486884601122, 5.837300167546844, 5.837114723535037, 5.836930542952582, 5.836747616258973, 5.836565933985765, 5.836385486735996, 5.836206265183712, 5.836028260073371, 5.835851462219342, 5.835675862505363, 5.835501451884028, 5.835328221376255, 5.8351561620707715, 5.834985265123628, 5.834815521757644, 5.834646923261937, 5.834479460991414, 5.83431312636627, 5.834147910871495, 5.833983806056396, 5.833820803534092, 5.833658894981051, 5.833498072136585, 5.833338326802423, 5.8331796508421805, 5.833022036180933, 5.832865474804751, 5.8327099587602, 5.832555480153929, 5.832402031152202, 5.832249603980441, 5.832098190922774, 5.831947784321611, 5.831798376577198, 5.831649960147153, 5.831502527546079, 5.831356071345097, 5.831210584171435, 5.831066058707992, 5.830922487692943, 5.8307798639192985, 5.8306381802344855, 5.830497429539953, 5.830357604790776, 5.830218698995205, 5.830080705214316, 5.82994361656157, 5.829807426202447, 5.8296721273540415, 5.82953771328466, 5.829404177313462, 5.829271512810043, 5.829139713194096, 5.829008771934985, 5.828878682551402, 5.828749438610983, 5.828621033729952, 5.82849346157273, 5.828366715851587, 5.828240790326281, 5.828115678803693, 5.827991375137471, 5.827867873227691, 5.8277451670204705, 5.827623250507686, 5.827502117726548, 5.827381762759313, 5.827262179732928, 5.8271433628186955, 5.8270253062319215, 5.826908004231622, 5.826791451120143, 5.826675641242868, 5.826560568987894, 5.826446228785681, 5.826332615108759, 5.8262197224713965, 5.826107545429294, 5.825996078579268, 5.8258853165589315, 5.825775254046391, 5.825665885759957, 5.825557206457815, 5.8254492109377445, 5.825341894036796, 5.82523525063103, 5.8251292756351845, 5.825023964002417, 5.824919310723973, 5.8248153108289555, 5.824711959383982, 5.8246092514929355, 5.824507182296667, 5.8244057469727295, 5.8243049407351055, 5.824204758833889, 5.824105196555073, 5.824006249220236, 5.823907912186295, 5.823810180845223, 5.823713050623789, 5.823616516983309, 5.823520575419376, 5.82342522146158, 5.8233304506733, 5.823236258651383, 5.8231426410259575, 5.823049593460134, 5.822957111649791, 5.822865191323301, 5.822773828241295, 5.82268301819641, 5.822592757013072, 5.822503040547233, 5.822413864686142, 5.822325225348102, 5.8222371184822395, 5.822149540068283, 5.822062486116307, 5.821975952666527, 5.821889935789052, 5.821804431583681, 5.82171943617966, 5.821634945735459, 5.821550956438574, 5.821467464505279, 5.821384466180422, 5.821301957737222, 5.821219935477027, 5.821138395729119, 5.821057334850517, 5.820976749225719, 5.820896635266556, 5.820816989411937, 5.820737808127678, 5.82065908790627, 5.82058082526671, 5.820503016754262, 5.820425658940283, 5.820348748422041, 5.820272281822486, 5.820196255790059, 5.8201206669985375, 5.820045512146801, 5.819970787958657, 5.819896491182663, 5.819822618591925, 5.819749166983912, 5.8196761331803, 5.819603514026731, 5.819531306392708, 5.8194595071713415, 5.819388113279214, 5.819317121656207, 5.819246529265297, 5.819176333092395, 5.819106530146183, 5.819037117457927, 5.818968092081304, 5.818899451092258, 5.818831191588805, 5.818763310690867, 5.818695805540139, 5.818628673299873, 5.818561911154776, 5.8184955163107785, 5.818429485994937, 5.818363817455237, 5.81829850796046, 5.818233554799994, 5.8181689552837055, 5.818104706741787, 5.818040806524574, 5.81797725200242, 5.817914040565533, 5.817851169623845, 5.817788636606821, 5.817726438963365, 5.817664574161623, 5.817603039688879, 5.817541833051382, 5.817480951774211, 5.817420393401154, 5.8173601554945185, 5.81730023563504, 5.817240631421714, 5.81718134047169, 5.817122360420073, 5.817063688919866, 5.817005323641769, 5.816947262274085, 5.816889502522574, 5.81683204211031, 5.816774878777584, 5.816718010281719, 5.816661434397017, 5.816605148914548, 5.816549151642073, 5.816493440403934, 5.816438013040869, 5.816382867409938, 5.816328001384381, 5.816273412853503, 5.8162190997225505, 5.816165059912575, 5.816111291360342, 5.816057792018183, 5.816004559853916, 5.815951592850671, 5.815898889006853, 5.815846446335948, 5.815794262866451, 5.815742336641749, 5.81569066572001, 5.815639248174054, 5.815588082091266, 5.815537165573469, 5.815486496736825, 5.815436073711702, 5.815385894642621, 5.815335957688092, 5.815286261020529, 5.815236802826166, 5.8151875813049125, 5.815138594670288, 5.815089841149299, 5.815041318982334, 5.814993026423073, 5.814944961738393, 5.814897123208251, 5.814849509125586, 5.814802117796246, 5.814754947538854, 5.814707996684742, 5.814661263577839, 5.8146147465745885, 5.814568444043828, 5.814522354366731, 5.814476475936691, 5.814430807159227, 5.814385346451897, 5.814340092244226, 5.814295042977587, 5.814250197105116, 5.814205553091657, 5.814161109413609, 5.814116864558912, 5.814072817026901, 5.814028965328264, 5.813985307984907, 5.813941843529936, 5.813898570507489, 5.813855487472742, 5.813812592991756, 5.813769885641434, 5.8137273640094165, 5.813685026694004, 5.8136428723041025, 5.8136008994591, 5.813559106788835, 5.813517492933471, 5.813476056543461, 5.813434796279418, 5.813393710812108, 5.813352798822309, 5.813312059000768, 5.813271490048122, 5.813231090674822, 5.813190859601049, 5.813150795556649, 5.8131108972810726, 5.813071163523285, 5.813031593041688, 5.812992184604067, 5.812952936987508, 5.812913848978357, 5.81287491937208, 5.8128361469732726, 5.812797530595557, 5.812759069061496, 5.8127207612025655, 5.81268260585905, 5.812644601879994, 5.812606748123141, 5.812569043454854, 5.812531486750068, 5.812494076892184, 5.8124568127730765, 5.812419693292959, 5.812382717360362, 5.812345883892057, 5.812309191812985, 5.812272640056234, 5.812236227562912, 5.812199953282149, 5.812163816171006, 5.81212781519441, 5.812091949325119, 5.812056217543633, 5.812020618838169, 5.81198515220457, 5.811949816646263, 5.811914611174209, 5.811879534806844, 5.811844586569988, 5.811809765496849, 5.811775070627915, 5.811740501010929, 5.81170605570083, 5.8116717337596855, 5.81163753425664, 5.811603456267886, 5.811569498876581, 5.811535661172798, 5.811501942253505, 5.811468341222462, 5.81143485719022, 5.811401489274037, 5.8113682365978265, 5.811335098292145, 5.811302073494086, 5.8112691613472816, 5.811236361001802, 5.81120367161418, 5.811171092347279, 5.811138622370309, 5.811106260858725, 5.81107400699425, 5.8110418599647495, 5.811009818964238, 5.810977883192816, 5.810946051856622, 5.810914324167785, 5.810882699344397, 5.810851176610445, 5.810819755195781, 5.810788434336062, 5.810757213272738, 5.810726091252961, 5.810695067529593, 5.810664141361118, 5.810633312011641, 5.810602578750794, 5.810571940853763, 5.810541397601165, 5.810510948279097, 5.810480592179001, 5.8104503285977, 5.810420156837319, 5.810390076205246, 5.810360086014105, 5.810330185581717, 5.810300374231051, 5.810270651290182, 5.810241016092254, 5.810211467975478, 5.810182006283023, 5.810152630363044, 5.810123339568618, 5.810094133257687, 5.81006501079306, 5.810035971542358, 5.810007014877965, 5.809978140177014, 5.809949346821347, 5.809920634197458, 5.809892001696483, 5.809863448714159, 5.809834974650788, 5.809806578911181, 5.809778260904676]\n"
     ]
    },
    {
     "data": {
      "image/png": "[encoded data removed]",
      "text/plain": [
       "<Figure size 640x480 with 1 Axes>"
      ]
     },
     "metadata": {},
     "output_type": "display_data"
    }
   ],
   "source": [
    "X, y = prepare_data(\"data/advertising.csv\")\n",
    "w1, w2, w3, b, losses = implement_linear_regression_N_samles(X, y, epochs=1000, learning_rate=1e-5)\n",
    "\n",
    "print(losses)\n",
    "plt.plot(losses)\n",
    "plt.xlabel(\"#epoch\")\n",
    "plt.ylabel(\"MSE Loss\")\n",
    "plt.show()"
   ]
  },
  {
   "cell_type": "markdown",
   "metadata": {},
   "source": [
    "# Bài tập 4:"
   ]
  },
  {
   "cell_type": "code",
   "execution_count": null,
   "metadata": {},
   "outputs": [],
   "source": [
    "def prepare_data(file_name_data):\n",
    "    data = np.genfromtxt(file_name_data, delimiter=',', skip_header=1)\n",
    "\n",
    "    tv_data = get_columns(data, 0)\n",
    "    radio_data = get_columns(data, 1)\n",
    "    newspaper_data = get_columns(data, 2)\n",
    "    sales_data = get_columns(data, 3)\n",
    "\n",
    "    y = sales_data\n",
    "\n",
    "    X = [[1, tv, radio, newspaper] for tv, radio, newspaper in zip(tv_data, radio_data, newspaper_data)]\n",
    "    return X, y\n",
    "\n",
    "X, y = prepare_data(\"data/advertising.csv\")\n"
   ]
  },
  {
   "cell_type": "code",
   "execution_count": 28,
   "metadata": {},
   "outputs": [],
   "source": [
    "def initialize_parameters():\n",
    "    bias = 0\n",
    "    w1 = random.gauss(0, 0.01)\n",
    "    w2 = random.gauss(0, 0.01)\n",
    "    w3 = random.gauss(0, 0.01)\n",
    "    return [0, -0.01268850433497871, 0.004752496982185252, 0.0073796171538643845]\n"
   ]
  },
  {
   "cell_type": "code",
   "execution_count": 37,
   "metadata": {},
   "outputs": [],
   "source": [
    "def predict(X_feature, weight):\n",
    "    return sum([x*w for x, w in zip(X_feature, weight)])\n"
   ]
  },
  {
   "cell_type": "code",
   "execution_count": 30,
   "metadata": {},
   "outputs": [],
   "source": [
    "def compute_loss_mse(y_hat, y):\n",
    "    return (y_hat - y) ** 2"
   ]
  },
  {
   "cell_type": "code",
   "execution_count": null,
   "metadata": {},
   "outputs": [],
   "source": [
    "def compute_gradient(X_feature, y, y_hat):\n",
    "    return [2*x*(y_hati - yi) for x, yi, y_hati in zip(X_feature, y, y_hat)]"
   ]
  },
  {
   "cell_type": "code",
   "execution_count": null,
   "metadata": {},
   "outputs": [],
   "source": [
    "def update_weight(weight, gradient, learning_rate):\n",
    "    return [weighti - learning_rate * gradienti for weighti, gradienti in zip(weight, gradient)]"
   ]
  },
  {
   "cell_type": "code",
   "execution_count": 38,
   "metadata": {},
   "outputs": [],
   "source": [
    "def implement_linear_regression_v2(X, y, learning_rate=1e-5, epochs=50):\n",
    "    weight = initialize_parameters()\n",
    "    losses = []\n",
    "\n",
    "    N = len(y)\n",
    "    for _ in range(epochs):\n",
    "        for i in range(N):\n",
    "            x = X[i]\n",
    "            y_label = y[i]\n",
    "            y_hat = predict(x, weight)\n",
    "            loss = compute_loss_mse(y_hat, y_label)\n",
    "            losses.append(loss)\n",
    "\n",
    "            gradient = compute_gradient(x, y_label, y_hat)\n",
    "            weight = update_weight(weight, gradient, learning_rate)\n",
    "\n",
    "    return weight, losses"
   ]
  },
  {
   "cell_type": "code",
   "execution_count": null,
   "metadata": {},
   "outputs": [],
   "source": [
    "X, y = prepare_data(\"data/advertising.csv\")\n",
    "weight, losses = implement_linear_regression_v2(X, y, epochs=1000, learning_rate=1e-5)\n",
    "\n",
    "plt.plot(losses[0:100])\n",
    "plt.xlabel(\"#Iteration\")\n",
    "plt.ylabel(\"Loss\")\n",
    "plt.show()\n",
    "\n"
   ]
  }
 ],
 "metadata": {
  "kernelspec": {
   "display_name": ".venv",
   "language": "python",
   "name": "python3"
  },
  "language_info": {
   "codemirror_mode": {
    "name": "ipython",
    "version": 3
   },
   "file_extension": ".py",
   "mimetype": "text/x-python",
   "name": "python",
   "nbconvert_exporter": "python",
   "pygments_lexer": "ipython3",
   "version": "3.12.4"
  }
 },
 "nbformat": 4,
 "nbformat_minor": 2
}
